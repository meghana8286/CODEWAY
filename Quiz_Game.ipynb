{
 "cells": [
  {
   "cell_type": "code",
   "execution_count": 29,
   "id": "6a666b38",
   "metadata": {},
   "outputs": [],
   "source": [
    "def new_game():\n",
    "    guesses = []\n",
    "    correct_guesses = 0\n",
    "    question_num = 1\n",
    "    \n",
    "    for key in questions:\n",
    "        print(\"--------------------------\")\n",
    "        print(key)\n",
    "        for i in options[question_num-1]:\n",
    "            print(i)\n",
    "        guess = input(\"Enter (A, B, C, or D): \")  \n",
    "        guess = guess.upper()\n",
    "        guesses.append(guess)\n",
    "        \n",
    "        correct_guesses += check_answer(questions.get(key), guess)\n",
    "        question_num += 1\n",
    "    display_score(correct_guesses, guesses)\n",
    "            \n",
    "def check_answer(answer, guess):\n",
    "    if answer == guess:\n",
    "        print(\"CORRECT!\")\n",
    "        return 1\n",
    "    else:\n",
    "        print(\"WRONG!\")\n",
    "        return 0\n",
    "    \n",
    "    \n",
    "def display_score(correct_guesses, guesses):\n",
    "    print(\"--------------------------\")\n",
    "    print(\"RESULTS\")\n",
    "    print(\"--------------------------\")\n",
    "    print(\"Answers:\", end=\"\")\n",
    "    for i in questions:\n",
    "        print(questions.get(i), end = \" \")\n",
    "    print()\n",
    "    print(\"Guesses:\", end=\"\")\n",
    "    for i in guesses:\n",
    "        print(i, end = \" \")\n",
    "    print()\n",
    "    \n",
    "    score = int((correct_guesses/len(questions))*100)\n",
    "    print(\"Your Score is: \"+str(score)+\"%\")\n",
    "    \n",
    "def play_again():\n",
    "    response = input(\"Do you want to play again?: (YES or NO): \" )\n",
    "    response = response.upper()\n",
    "    if response == \"YES\":\n",
    "        return True\n",
    "    else:\n",
    "        return False"
   ]
  },
  {
   "cell_type": "code",
   "execution_count": 30,
   "id": "23cbaf26",
   "metadata": {},
   "outputs": [],
   "source": [
    "questions = {\n",
    "    \"Who created python?: \": \"A\",\n",
    "    \"What year was python created?: \": \"B\",\n",
    "    \"Python is tributed to which comedy group?: \": \"C\",\n",
    "    \"Is the earth round?: \": \"A\"\n",
    "}"
   ]
  },
  {
   "cell_type": "code",
   "execution_count": 31,
   "id": "7f962a91",
   "metadata": {},
   "outputs": [],
   "source": [
    "options = [[\"A. Guido van Rossum\", \"B. Elon Musk\", \"C. Bill Gates\", \"D. Mark Zukerburg\"],\n",
    "          [\"A. 1989\", \"B. 1991\", \"C. 2000\", \"D. 2016\"],\n",
    "          [\"A. Lonely Island\", \"B. Smosh\", \"C. Money Python\", \"D. SNL\"],\n",
    "          [\"A. True\", \"B. False\", \"C. Sometimes\", \"D. Don't Know\"]]"
   ]
  },
  {
   "cell_type": "code",
   "execution_count": null,
   "id": "d00589a1",
   "metadata": {},
   "outputs": [
    {
     "name": "stdout",
     "output_type": "stream",
     "text": [
      "--------------------------\n",
      "Who created python?: \n",
      "A. Guido van Rossum\n",
      "B. Elon Musk\n",
      "C. Bill Gates\n",
      "D. Mark Zukerburg\n"
     ]
    }
   ],
   "source": [
    "new_game()\n",
    "\n",
    "while play_again():\n",
    "    new_game()\n",
    "    \n",
    "print(\"Byeeeee!\")"
   ]
  },
  {
   "cell_type": "code",
   "execution_count": null,
   "id": "57a90926",
   "metadata": {},
   "outputs": [],
   "source": []
  },
  {
   "cell_type": "code",
   "execution_count": null,
   "id": "556d584c",
   "metadata": {},
   "outputs": [],
   "source": []
  },
  {
   "cell_type": "code",
   "execution_count": null,
   "id": "3473a598",
   "metadata": {},
   "outputs": [],
   "source": []
  }
 ],
 "metadata": {
  "kernelspec": {
   "display_name": "Python 3 (ipykernel)",
   "language": "python",
   "name": "python3"
  },
  "language_info": {
   "codemirror_mode": {
    "name": "ipython",
    "version": 3
   },
   "file_extension": ".py",
   "mimetype": "text/x-python",
   "name": "python",
   "nbconvert_exporter": "python",
   "pygments_lexer": "ipython3",
   "version": "3.11.5"
  }
 },
 "nbformat": 4,
 "nbformat_minor": 5
}
