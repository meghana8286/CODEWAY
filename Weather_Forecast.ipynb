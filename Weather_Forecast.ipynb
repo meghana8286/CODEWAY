{
 "cells": [
  {
   "cell_type": "code",
   "execution_count": 1,
   "id": "7ac8c29f",
   "metadata": {},
   "outputs": [],
   "source": [
    "import requests"
   ]
  },
  {
   "cell_type": "code",
   "execution_count": 3,
   "id": "f542feb3",
   "metadata": {},
   "outputs": [],
   "source": [
    "def get_weather(api_key, location):\n",
    "    url = f\"http://api.openweathermap.org/data/2.5/weather?q={location}&appid={api_key}&units=metric\"\n",
    "    response = requests.get(url)\n",
    "    data = response.json()\n",
    "    if response.status_code == 200:\n",
    "        weather_info = {\n",
    "            \"temperature\": data[\"main\"][\"temp\"],\n",
    "            \"humidity\": data[\"main\"][\"humidity\"],\n",
    "            \"wind_speed\": data[\"wind\"][\"speed\"],\n",
    "            \"description\": data[\"weather\"][0][\"description\"]\n",
    "        }\n",
    "        return weather_info\n",
    "    else:\n",
    "        return None"
   ]
  },
  {
   "cell_type": "code",
   "execution_count": 4,
   "id": "86b10c14",
   "metadata": {},
   "outputs": [],
   "source": [
    "def display_weather(weather_info, location):\n",
    "    if weather_info:\n",
    "        print(f\"Weather information for {location}:\")\n",
    "        print(f\"Temperature: {weather_info['temperature']}°C\")\n",
    "        print(f\"Humidity: {weather_info['humidity']}%\")\n",
    "        print(f\"Wind Speed: {weather_info['wind_speed']} m/s\")\n",
    "        print(f\"Description: {weather_info['description']}\")\n",
    "    else:\n",
    "        print(\"City not found or API request failed.\")"
   ]
  },
  {
   "cell_type": "code",
   "execution_count": 6,
   "id": "6e6bc8ed",
   "metadata": {},
   "outputs": [
    {
     "name": "stdout",
     "output_type": "stream",
     "text": [
      "Enter the name of a city or a zip code: Mumbai\n",
      "Weather information for Mumbai:\n",
      "Temperature: 29.99°C\n",
      "Humidity: 15%\n",
      "Wind Speed: 4.12 m/s\n",
      "Description: smoke\n"
     ]
    }
   ],
   "source": [
    "def main():\n",
    "    api_key = \"b9821a4b7c46c98de4ebb57990dd8098\"  # Replace with your actual OpenWeatherMap API key\n",
    "    location = input(\"Enter the name of a city or a zip code: \")\n",
    "    \n",
    "    weather_info = get_weather(api_key, location)\n",
    "    display_weather(weather_info, location)\n",
    "\n",
    "if __name__ == \"__main__\":\n",
    "    main()"
   ]
  },
  {
   "cell_type": "code",
   "execution_count": null,
   "id": "ef60436d",
   "metadata": {},
   "outputs": [],
   "source": []
  }
 ],
 "metadata": {
  "kernelspec": {
   "display_name": "Python 3 (ipykernel)",
   "language": "python",
   "name": "python3"
  },
  "language_info": {
   "codemirror_mode": {
    "name": "ipython",
    "version": 3
   },
   "file_extension": ".py",
   "mimetype": "text/x-python",
   "name": "python",
   "nbconvert_exporter": "python",
   "pygments_lexer": "ipython3",
   "version": "3.11.5"
  }
 },
 "nbformat": 4,
 "nbformat_minor": 5
}
